{
 "cells": [
  {
   "cell_type": "markdown",
   "id": "af4ec8f0-1b47-449e-8c5f-d2073730924f",
   "metadata": {},
   "source": [
    "# Machine Learning: Classification Model"
   ]
  },
  {
   "cell_type": "markdown",
   "id": "50075967-76c6-44f4-9978-38a9ca81d1e2",
   "metadata": {},
   "source": [
    "Classification is a type of supervised machine learning where the goal is to predict a categorical label (also known as a class) based on a set of features or predictors.\n",
    "\n",
    "A classification model takes a set of input features and maps them to one of several possible outputs or class labels. The model is trained on a labeled dataset where the correct class labels are known, and then used to make predictions on new, unseen data. The model learns to associate certain feature values with specific class labels, so that when new data is presented to the model, it can predict which class the data belongs to.\n",
    "\n",
    "There are many algorithms for building classification models, including logistic regression, k-nearest neighbors, decision trees, random forests, and support vector machines, among others. The choice of algorithm depends on the problem, the type of data, and the computational resources available."
   ]
  },
  {
   "cell_type": "markdown",
   "id": "4eb4ff0e-bbb2-4190-a9db-ff9e00276f45",
   "metadata": {},
   "source": [
    "Classification models have several benefits for industry, including:\n",
    "\n",
    "a. Automated predictions: Classification models can automate the process of making predictions, which can be time-consuming and error-prone when performed manually.\n",
    "\n",
    "b. Improved accuracy: With proper training and evaluation, classification models can be highly accurate, reducing the number of incorrect predictions compared to manual methods.\n",
    "\n",
    "c. Scalability: Classification models can handle large amounts of data, making them well suited for handling big data in industry.\n",
    "\n",
    "d. Improved decision-making: By providing accurate and automated predictions, classification models can help improve decision-making in various industries.\n",
    "\n",
    "\n",
    "Examples of applications of classification models in industry include:\n",
    "\n",
    "1. Fraud detection: Classification models can be used to identify fraudulent activities, such as credit card fraud, by detecting patterns in transaction data that are indicative of fraud.\n",
    "\n",
    "2. Customer segmentation: Classification models can be used to segment customers into different groups based on their demographics, purchase history, and other data. This information can be used to target marketing campaigns and improve customer retention.\n",
    "\n",
    "3. Medical diagnosis: Classification models can be used in the medical field to diagnose diseases based on symptoms, test results, and other data.\n",
    "\n",
    "4. Sentiment analysis: Classification models can be used in text analysis to determine the sentiment expressed in text data, such as social media posts or product reviews. This information can be used to understand customer sentiment and improve customer satisfaction."
   ]
  },
  {
   "cell_type": "markdown",
   "id": "45b88b52-8052-444d-8c8f-afd86a0ed8a0",
   "metadata": {},
   "source": [
    "Here are the general steps to create a classification model in machine learning:\n",
    "\n",
    "1. Define the problem: Start by defining the problem you want to solve and determining whether it is a classification problem.\n",
    "\n",
    "2. Collect and prepare the data: Gather the relevant data for your problem, and clean and preprocess the data as necessary. This may involve handling missing values, transforming variables, and scaling the data.\n",
    "\n",
    "3. Split the data into training and test sets: Divide your data into two sets, one for training the model and one for testing its performance. It is important to keep the test set separate so that you can evaluate the model's performance on unseen data.\n",
    "\n",
    "4. Choose a model: Select an appropriate model for the problem, such as logistic regression, decision trees, random forests, or support vector machines. Consider the type of data you are working with and the computational resources available.\n",
    "\n",
    "5. Train the model: Train the model on the training data by fitting the model to the data and optimizing its parameters.\n",
    "\n",
    "6. Evaluate the model: Use the test set to evaluate the performance of the model. This may involve computing metrics such as accuracy, precision, recall, and F1 score.\n",
    "\n",
    "7. Fine-tune the model: Based on the evaluation results, make any necessary changes to the model or the data to improve its performance. Repeat steps 5-7 until you are satisfied with the performance of the model, this is optional\n",
    "\n",
    "8. Use the model to make predictions: Use the trained model to make predictions on new, unseen data.\n",
    "\n",
    "9. Deploy the model: Deploy the model in a production environment and monitor its performance over time. Make any necessary updates to keep the model up-to-date and accurate.\n",
    "\n",
    "\n",
    "\n"
   ]
  },
  {
   "cell_type": "markdown",
   "id": "477f950d-331d-4072-b835-7ce3e2d81b52",
   "metadata": {},
   "source": [
    "## Import Library"
   ]
  },
  {
   "cell_type": "code",
   "execution_count": 1,
   "id": "3c7388df-6b00-402a-b0b1-3d1d9d9b4c4d",
   "metadata": {},
   "outputs": [],
   "source": [
    "import pandas as pd\n",
    "import numpy as np\n",
    "from sklearn.model_selection import train_test_split\n",
    "from sklearn.ensemble import RandomForestClassifier"
   ]
  },
  {
   "cell_type": "markdown",
   "id": "9f8bdec0-2aef-4900-9cbf-53f3834477c8",
   "metadata": {},
   "source": [
    "## Define Dataframe"
   ]
  },
  {
   "cell_type": "code",
   "execution_count": 2,
   "id": "251cbaeb-6324-4c68-8c69-51b02c58baed",
   "metadata": {},
   "outputs": [],
   "source": [
    "# create dataframe\n",
    "df = pd.DataFrame({'categorical_column_1': ['A', 'B', 'C', 'D', 'E', 'A', 'B', 'C', 'D', 'E', 'A', 'B', 'C', 'D', 'E','A', 'B', 'C', 'D', 'E','A', 'B', 'C', 'D', 'E','A', 'B', 'C', 'D', 'E'],\n",
    "                   'categorical_column_2': ['X', 'Y', 'Z', 'X', 'Y', 'Z', 'X', 'Y', 'Z', 'X', 'Y', 'Z','X', 'Y', 'Z', 'X', 'Y', 'Z', 'X', 'Y', 'Z', 'X', 'Y', 'Z', 'X', 'Y', 'Z','X', 'Y', 'Z'],\n",
    "                   'numerical_column_1': np.random.rand(30),\n",
    "                   'numerical_column_2': np.random.rand(30),\n",
    "                   'numerical_column_3': np.random.rand(30),\n",
    "                   'label': [0, 1, 1, 0, 0, 1, 0, 1, 1, 0, 0, 1, 0, 1, 0, 0, 1, 1, 0, 0, 0, 1, 1, 0, 0, 1, 1, 1, 0, 0]})"
   ]
  },
  {
   "cell_type": "code",
   "execution_count": 3,
   "id": "fc699b6b-bb41-4665-90c1-e83a7935b0cc",
   "metadata": {},
   "outputs": [
    {
     "data": {
      "text/html": [
       "<div>\n",
       "<style scoped>\n",
       "    .dataframe tbody tr th:only-of-type {\n",
       "        vertical-align: middle;\n",
       "    }\n",
       "\n",
       "    .dataframe tbody tr th {\n",
       "        vertical-align: top;\n",
       "    }\n",
       "\n",
       "    .dataframe thead th {\n",
       "        text-align: right;\n",
       "    }\n",
       "</style>\n",
       "<table border=\"1\" class=\"dataframe\">\n",
       "  <thead>\n",
       "    <tr style=\"text-align: right;\">\n",
       "      <th></th>\n",
       "      <th>categorical_column_1</th>\n",
       "      <th>categorical_column_2</th>\n",
       "      <th>numerical_column_1</th>\n",
       "      <th>numerical_column_2</th>\n",
       "      <th>numerical_column_3</th>\n",
       "      <th>label</th>\n",
       "    </tr>\n",
       "  </thead>\n",
       "  <tbody>\n",
       "    <tr>\n",
       "      <th>0</th>\n",
       "      <td>A</td>\n",
       "      <td>X</td>\n",
       "      <td>0.052037</td>\n",
       "      <td>0.168620</td>\n",
       "      <td>0.143165</td>\n",
       "      <td>0</td>\n",
       "    </tr>\n",
       "    <tr>\n",
       "      <th>1</th>\n",
       "      <td>B</td>\n",
       "      <td>Y</td>\n",
       "      <td>0.258971</td>\n",
       "      <td>0.503202</td>\n",
       "      <td>0.239435</td>\n",
       "      <td>1</td>\n",
       "    </tr>\n",
       "    <tr>\n",
       "      <th>2</th>\n",
       "      <td>C</td>\n",
       "      <td>Z</td>\n",
       "      <td>0.583829</td>\n",
       "      <td>0.393311</td>\n",
       "      <td>0.674859</td>\n",
       "      <td>1</td>\n",
       "    </tr>\n",
       "    <tr>\n",
       "      <th>3</th>\n",
       "      <td>D</td>\n",
       "      <td>X</td>\n",
       "      <td>0.585395</td>\n",
       "      <td>0.987178</td>\n",
       "      <td>0.672640</td>\n",
       "      <td>0</td>\n",
       "    </tr>\n",
       "    <tr>\n",
       "      <th>4</th>\n",
       "      <td>E</td>\n",
       "      <td>Y</td>\n",
       "      <td>0.403260</td>\n",
       "      <td>0.960202</td>\n",
       "      <td>0.142771</td>\n",
       "      <td>0</td>\n",
       "    </tr>\n",
       "    <tr>\n",
       "      <th>5</th>\n",
       "      <td>A</td>\n",
       "      <td>Z</td>\n",
       "      <td>0.945124</td>\n",
       "      <td>0.298565</td>\n",
       "      <td>0.900249</td>\n",
       "      <td>1</td>\n",
       "    </tr>\n",
       "    <tr>\n",
       "      <th>6</th>\n",
       "      <td>B</td>\n",
       "      <td>X</td>\n",
       "      <td>0.941275</td>\n",
       "      <td>0.665033</td>\n",
       "      <td>0.755958</td>\n",
       "      <td>0</td>\n",
       "    </tr>\n",
       "    <tr>\n",
       "      <th>7</th>\n",
       "      <td>C</td>\n",
       "      <td>Y</td>\n",
       "      <td>0.123740</td>\n",
       "      <td>0.566526</td>\n",
       "      <td>0.869093</td>\n",
       "      <td>1</td>\n",
       "    </tr>\n",
       "    <tr>\n",
       "      <th>8</th>\n",
       "      <td>D</td>\n",
       "      <td>Z</td>\n",
       "      <td>0.459953</td>\n",
       "      <td>0.494005</td>\n",
       "      <td>0.503336</td>\n",
       "      <td>1</td>\n",
       "    </tr>\n",
       "    <tr>\n",
       "      <th>9</th>\n",
       "      <td>E</td>\n",
       "      <td>X</td>\n",
       "      <td>0.102842</td>\n",
       "      <td>0.334663</td>\n",
       "      <td>0.480714</td>\n",
       "      <td>0</td>\n",
       "    </tr>\n",
       "    <tr>\n",
       "      <th>10</th>\n",
       "      <td>A</td>\n",
       "      <td>Y</td>\n",
       "      <td>0.279023</td>\n",
       "      <td>0.931175</td>\n",
       "      <td>0.691087</td>\n",
       "      <td>0</td>\n",
       "    </tr>\n",
       "    <tr>\n",
       "      <th>11</th>\n",
       "      <td>B</td>\n",
       "      <td>Z</td>\n",
       "      <td>0.181268</td>\n",
       "      <td>0.408568</td>\n",
       "      <td>0.791844</td>\n",
       "      <td>1</td>\n",
       "    </tr>\n",
       "    <tr>\n",
       "      <th>12</th>\n",
       "      <td>C</td>\n",
       "      <td>X</td>\n",
       "      <td>0.134417</td>\n",
       "      <td>0.970519</td>\n",
       "      <td>0.001628</td>\n",
       "      <td>0</td>\n",
       "    </tr>\n",
       "    <tr>\n",
       "      <th>13</th>\n",
       "      <td>D</td>\n",
       "      <td>Y</td>\n",
       "      <td>0.405837</td>\n",
       "      <td>0.389676</td>\n",
       "      <td>0.484125</td>\n",
       "      <td>1</td>\n",
       "    </tr>\n",
       "    <tr>\n",
       "      <th>14</th>\n",
       "      <td>E</td>\n",
       "      <td>Z</td>\n",
       "      <td>0.299874</td>\n",
       "      <td>0.862611</td>\n",
       "      <td>0.158764</td>\n",
       "      <td>0</td>\n",
       "    </tr>\n",
       "    <tr>\n",
       "      <th>15</th>\n",
       "      <td>A</td>\n",
       "      <td>X</td>\n",
       "      <td>0.915297</td>\n",
       "      <td>0.951159</td>\n",
       "      <td>0.571210</td>\n",
       "      <td>0</td>\n",
       "    </tr>\n",
       "    <tr>\n",
       "      <th>16</th>\n",
       "      <td>B</td>\n",
       "      <td>Y</td>\n",
       "      <td>0.869344</td>\n",
       "      <td>0.838934</td>\n",
       "      <td>0.029775</td>\n",
       "      <td>1</td>\n",
       "    </tr>\n",
       "    <tr>\n",
       "      <th>17</th>\n",
       "      <td>C</td>\n",
       "      <td>Z</td>\n",
       "      <td>0.595455</td>\n",
       "      <td>0.971484</td>\n",
       "      <td>0.225337</td>\n",
       "      <td>1</td>\n",
       "    </tr>\n",
       "    <tr>\n",
       "      <th>18</th>\n",
       "      <td>D</td>\n",
       "      <td>X</td>\n",
       "      <td>0.518270</td>\n",
       "      <td>0.462058</td>\n",
       "      <td>0.046534</td>\n",
       "      <td>0</td>\n",
       "    </tr>\n",
       "    <tr>\n",
       "      <th>19</th>\n",
       "      <td>E</td>\n",
       "      <td>Y</td>\n",
       "      <td>0.529795</td>\n",
       "      <td>0.674905</td>\n",
       "      <td>0.741298</td>\n",
       "      <td>0</td>\n",
       "    </tr>\n",
       "    <tr>\n",
       "      <th>20</th>\n",
       "      <td>A</td>\n",
       "      <td>Z</td>\n",
       "      <td>0.494207</td>\n",
       "      <td>0.027860</td>\n",
       "      <td>0.965588</td>\n",
       "      <td>0</td>\n",
       "    </tr>\n",
       "    <tr>\n",
       "      <th>21</th>\n",
       "      <td>B</td>\n",
       "      <td>X</td>\n",
       "      <td>0.408413</td>\n",
       "      <td>0.932508</td>\n",
       "      <td>0.361644</td>\n",
       "      <td>1</td>\n",
       "    </tr>\n",
       "    <tr>\n",
       "      <th>22</th>\n",
       "      <td>C</td>\n",
       "      <td>Y</td>\n",
       "      <td>0.284692</td>\n",
       "      <td>0.768427</td>\n",
       "      <td>0.702899</td>\n",
       "      <td>1</td>\n",
       "    </tr>\n",
       "    <tr>\n",
       "      <th>23</th>\n",
       "      <td>D</td>\n",
       "      <td>Z</td>\n",
       "      <td>0.401358</td>\n",
       "      <td>0.126168</td>\n",
       "      <td>0.164754</td>\n",
       "      <td>0</td>\n",
       "    </tr>\n",
       "    <tr>\n",
       "      <th>24</th>\n",
       "      <td>E</td>\n",
       "      <td>X</td>\n",
       "      <td>0.888681</td>\n",
       "      <td>0.409731</td>\n",
       "      <td>0.068670</td>\n",
       "      <td>0</td>\n",
       "    </tr>\n",
       "    <tr>\n",
       "      <th>25</th>\n",
       "      <td>A</td>\n",
       "      <td>Y</td>\n",
       "      <td>0.426488</td>\n",
       "      <td>0.027239</td>\n",
       "      <td>0.700551</td>\n",
       "      <td>1</td>\n",
       "    </tr>\n",
       "    <tr>\n",
       "      <th>26</th>\n",
       "      <td>B</td>\n",
       "      <td>Z</td>\n",
       "      <td>0.808718</td>\n",
       "      <td>0.308373</td>\n",
       "      <td>0.134826</td>\n",
       "      <td>1</td>\n",
       "    </tr>\n",
       "    <tr>\n",
       "      <th>27</th>\n",
       "      <td>C</td>\n",
       "      <td>X</td>\n",
       "      <td>0.104689</td>\n",
       "      <td>0.303303</td>\n",
       "      <td>0.426013</td>\n",
       "      <td>1</td>\n",
       "    </tr>\n",
       "    <tr>\n",
       "      <th>28</th>\n",
       "      <td>D</td>\n",
       "      <td>Y</td>\n",
       "      <td>0.462576</td>\n",
       "      <td>0.697545</td>\n",
       "      <td>0.977001</td>\n",
       "      <td>0</td>\n",
       "    </tr>\n",
       "    <tr>\n",
       "      <th>29</th>\n",
       "      <td>E</td>\n",
       "      <td>Z</td>\n",
       "      <td>0.486820</td>\n",
       "      <td>0.276422</td>\n",
       "      <td>0.762085</td>\n",
       "      <td>0</td>\n",
       "    </tr>\n",
       "  </tbody>\n",
       "</table>\n",
       "</div>"
      ],
      "text/plain": [
       "   categorical_column_1 categorical_column_2  numerical_column_1  \\\n",
       "0                     A                    X            0.052037   \n",
       "1                     B                    Y            0.258971   \n",
       "2                     C                    Z            0.583829   \n",
       "3                     D                    X            0.585395   \n",
       "4                     E                    Y            0.403260   \n",
       "5                     A                    Z            0.945124   \n",
       "6                     B                    X            0.941275   \n",
       "7                     C                    Y            0.123740   \n",
       "8                     D                    Z            0.459953   \n",
       "9                     E                    X            0.102842   \n",
       "10                    A                    Y            0.279023   \n",
       "11                    B                    Z            0.181268   \n",
       "12                    C                    X            0.134417   \n",
       "13                    D                    Y            0.405837   \n",
       "14                    E                    Z            0.299874   \n",
       "15                    A                    X            0.915297   \n",
       "16                    B                    Y            0.869344   \n",
       "17                    C                    Z            0.595455   \n",
       "18                    D                    X            0.518270   \n",
       "19                    E                    Y            0.529795   \n",
       "20                    A                    Z            0.494207   \n",
       "21                    B                    X            0.408413   \n",
       "22                    C                    Y            0.284692   \n",
       "23                    D                    Z            0.401358   \n",
       "24                    E                    X            0.888681   \n",
       "25                    A                    Y            0.426488   \n",
       "26                    B                    Z            0.808718   \n",
       "27                    C                    X            0.104689   \n",
       "28                    D                    Y            0.462576   \n",
       "29                    E                    Z            0.486820   \n",
       "\n",
       "    numerical_column_2  numerical_column_3  label  \n",
       "0             0.168620            0.143165      0  \n",
       "1             0.503202            0.239435      1  \n",
       "2             0.393311            0.674859      1  \n",
       "3             0.987178            0.672640      0  \n",
       "4             0.960202            0.142771      0  \n",
       "5             0.298565            0.900249      1  \n",
       "6             0.665033            0.755958      0  \n",
       "7             0.566526            0.869093      1  \n",
       "8             0.494005            0.503336      1  \n",
       "9             0.334663            0.480714      0  \n",
       "10            0.931175            0.691087      0  \n",
       "11            0.408568            0.791844      1  \n",
       "12            0.970519            0.001628      0  \n",
       "13            0.389676            0.484125      1  \n",
       "14            0.862611            0.158764      0  \n",
       "15            0.951159            0.571210      0  \n",
       "16            0.838934            0.029775      1  \n",
       "17            0.971484            0.225337      1  \n",
       "18            0.462058            0.046534      0  \n",
       "19            0.674905            0.741298      0  \n",
       "20            0.027860            0.965588      0  \n",
       "21            0.932508            0.361644      1  \n",
       "22            0.768427            0.702899      1  \n",
       "23            0.126168            0.164754      0  \n",
       "24            0.409731            0.068670      0  \n",
       "25            0.027239            0.700551      1  \n",
       "26            0.308373            0.134826      1  \n",
       "27            0.303303            0.426013      1  \n",
       "28            0.697545            0.977001      0  \n",
       "29            0.276422            0.762085      0  "
      ]
     },
     "execution_count": 3,
     "metadata": {},
     "output_type": "execute_result"
    }
   ],
   "source": [
    "df"
   ]
  },
  {
   "cell_type": "markdown",
   "id": "e1e7f75d-1b48-46b2-85f9-dddc9f269373",
   "metadata": {},
   "source": [
    "From the dataframe it's clear that we want to predict or classify the data based on label"
   ]
  },
  {
   "cell_type": "markdown",
   "id": "03913df3-5862-40de-a058-4b541c0801c9",
   "metadata": {},
   "source": [
    "## Split data label and non label"
   ]
  },
  {
   "cell_type": "code",
   "execution_count": 5,
   "id": "f40d7d72-be72-4bac-af4b-6668e33da5c7",
   "metadata": {},
   "outputs": [],
   "source": [
    "# split the dataframe into X and y\n",
    "X = df.drop('label', axis=1)\n",
    "y = df['label']"
   ]
  },
  {
   "cell_type": "markdown",
   "id": "a8e3093d-73cc-4acb-914e-137d69a44bbe",
   "metadata": {},
   "source": [
    "## Create dummies\n",
    "\n",
    "Convert categorical variable into dummy/indicator variables.\n",
    "\n",
    "https://pandas.pydata.org/docs/reference/api/pandas.get_dummies.html"
   ]
  },
  {
   "cell_type": "code",
   "execution_count": 6,
   "id": "42bcfd46-c88f-4d1b-b99e-46b95168933a",
   "metadata": {},
   "outputs": [],
   "source": [
    "# create dummies for the categorical variables in X\n",
    "X = pd.get_dummies(X, columns=['categorical_column_1', 'categorical_column_2'])"
   ]
  },
  {
   "cell_type": "markdown",
   "id": "9d3cbc90-501f-4630-b504-c28f4b4bebd6",
   "metadata": {},
   "source": [
    "## Split Train & Test Data"
   ]
  },
  {
   "cell_type": "code",
   "execution_count": 7,
   "id": "8a6a9c58-203a-46ed-8152-b47c30c86f72",
   "metadata": {},
   "outputs": [],
   "source": [
    "# split the data into training and testing sets\n",
    "X_train, X_test, y_train, y_test = train_test_split(X, y, test_size=0.3, random_state=42)"
   ]
  },
  {
   "cell_type": "markdown",
   "id": "2bda6b34-ea9c-4f45-8ee4-871b0496295e",
   "metadata": {},
   "source": [
    "## Train Model\n",
    "\n",
    "we use RandomForestClassifier in this case, A random forest is a meta estimator that fits a number of decision tree classifiers on various sub-samples of the dataset and uses averaging to improve the predictive accuracy and control over-fitting. \n",
    "\n",
    "https://scikit-learn.org/stable/modules/generated/sklearn.ensemble.RandomForestClassifier.html"
   ]
  },
  {
   "cell_type": "code",
   "execution_count": 8,
   "id": "a34f0c63-fdfd-4881-89d3-6b528a377fb9",
   "metadata": {},
   "outputs": [
    {
     "data": {
      "text/plain": [
       "RandomForestClassifier(random_state=42)"
      ]
     },
     "execution_count": 8,
     "metadata": {},
     "output_type": "execute_result"
    }
   ],
   "source": [
    "# train a Random Forest Classifier\n",
    "clf = RandomForestClassifier(n_estimators=100, random_state=42)\n",
    "clf.fit(X_train, y_train)"
   ]
  },
  {
   "cell_type": "markdown",
   "id": "cf45a09d-2a16-44df-919b-51ce970ad945",
   "metadata": {},
   "source": [
    "## Create Prediction by using Test Data"
   ]
  },
  {
   "cell_type": "code",
   "execution_count": 9,
   "id": "a8ca7df7-348a-47c2-b412-1ba28310df4a",
   "metadata": {},
   "outputs": [],
   "source": [
    "# make predictions on the test data\n",
    "y_pred = clf.predict(X_test)"
   ]
  },
  {
   "cell_type": "code",
   "execution_count": 10,
   "id": "d6a6046e-c6aa-4492-8eba-662481f016bc",
   "metadata": {},
   "outputs": [
    {
     "data": {
      "text/plain": [
       "array([1, 0, 1, 1, 1, 0, 1, 0, 0], dtype=int64)"
      ]
     },
     "execution_count": 10,
     "metadata": {},
     "output_type": "execute_result"
    }
   ],
   "source": [
    "y_pred"
   ]
  },
  {
   "cell_type": "markdown",
   "id": "9ce291c5-00ab-4140-9625-ea87947ed39e",
   "metadata": {},
   "source": [
    "## Evaluation"
   ]
  },
  {
   "cell_type": "markdown",
   "id": "2bb7dadd-97e1-43ca-9983-47e08c7776d5",
   "metadata": {},
   "source": [
    "For excample in this study, we use accuray to know how accurate the prediction"
   ]
  },
  {
   "cell_type": "code",
   "execution_count": 11,
   "id": "fac2a4d7-004f-478b-a365-ec9d4ca98b92",
   "metadata": {},
   "outputs": [
    {
     "name": "stdout",
     "output_type": "stream",
     "text": [
      "Accuracy: 77.78%\n"
     ]
    }
   ],
   "source": [
    "# evaluate the model\n",
    "from sklearn.metrics import accuracy_score, confusion_matrix\n",
    "accuracy = accuracy_score(y_test, y_pred)\n",
    "print(\"Accuracy: {:.2f}%\".format(accuracy * 100))"
   ]
  },
  {
   "cell_type": "code",
   "execution_count": 12,
   "id": "21c95a47-039c-4b71-9c75-ea7a2571b74f",
   "metadata": {},
   "outputs": [
    {
     "name": "stdout",
     "output_type": "stream",
     "text": [
      "Confusion Matrix:\n",
      " [[4 2]\n",
      " [0 3]]\n"
     ]
    }
   ],
   "source": [
    "cm = confusion_matrix(y_test, y_pred)\n",
    "print(\"Confusion Matrix:\\n\", cm)"
   ]
  },
  {
   "cell_type": "markdown",
   "id": "75c4db16-2f76-426d-84ed-768be95830d7",
   "metadata": {},
   "source": [
    "The result looks good, it means that machine learning learning very well, if you want to improve the model you can use hyperparameter tuning, but it's optional if you satisfied by the result"
   ]
  },
  {
   "cell_type": "markdown",
   "id": "311aec0d-40e4-413e-93ce-9f0cd09ac0c3",
   "metadata": {},
   "source": [
    "## Lets deploy and use the model to predict new data without label"
   ]
  },
  {
   "cell_type": "markdown",
   "id": "62427a78-35ef-4b02-af55-501f35dc47ae",
   "metadata": {},
   "source": [
    "### Create new dataframe"
   ]
  },
  {
   "cell_type": "code",
   "execution_count": 13,
   "id": "0dd3f6c9-dfd9-44d0-bce7-0ff462eb34b4",
   "metadata": {},
   "outputs": [],
   "source": [
    "# create a new dataframe without the label\n",
    "# create dataframe\n",
    "new_df = pd.DataFrame({'categorical_column_1': ['A', 'B', 'C', 'D', 'E', 'A', 'B', 'C', 'D', 'E'],\n",
    "                   'categorical_column_2': ['X', 'Y', 'Z', 'X', 'Y', 'Z', 'X', 'Y', 'Z', 'X'],\n",
    "                   'numerical_column_1': np.random.randn(10),\n",
    "                   'numerical_column_2': np.random.randn(10),\n",
    "                   'numerical_column_3': np.random.randn(10)})"
   ]
  },
  {
   "cell_type": "markdown",
   "id": "a7a54114-75d6-4bb0-8a4e-bc47dff59873",
   "metadata": {},
   "source": [
    "### Create dummies"
   ]
  },
  {
   "cell_type": "code",
   "execution_count": 14,
   "id": "08d63b1a-74ae-48c3-a024-e2bf7050fbe0",
   "metadata": {},
   "outputs": [],
   "source": [
    "# create dummies for the categorical variables in the new dataframe\n",
    "new_df = pd.get_dummies(new_df, columns=['categorical_column_1', 'categorical_column_2'])"
   ]
  },
  {
   "cell_type": "markdown",
   "id": "d27c7542-5aa4-41bf-bc8c-ba632e757a70",
   "metadata": {},
   "source": [
    "### Predict new data"
   ]
  },
  {
   "cell_type": "code",
   "execution_count": 15,
   "id": "756d29e5-2179-49f6-bd2b-1084e451e336",
   "metadata": {},
   "outputs": [],
   "source": [
    "# use the trained model to predict the labels for the new dataframe\n",
    "new_df['label_prediction'] = clf.predict(new_df)"
   ]
  },
  {
   "cell_type": "code",
   "execution_count": 16,
   "id": "d320c324-4c97-4b5e-b654-4e69fe4187da",
   "metadata": {},
   "outputs": [
    {
     "data": {
      "text/html": [
       "<div>\n",
       "<style scoped>\n",
       "    .dataframe tbody tr th:only-of-type {\n",
       "        vertical-align: middle;\n",
       "    }\n",
       "\n",
       "    .dataframe tbody tr th {\n",
       "        vertical-align: top;\n",
       "    }\n",
       "\n",
       "    .dataframe thead th {\n",
       "        text-align: right;\n",
       "    }\n",
       "</style>\n",
       "<table border=\"1\" class=\"dataframe\">\n",
       "  <thead>\n",
       "    <tr style=\"text-align: right;\">\n",
       "      <th></th>\n",
       "      <th>numerical_column_1</th>\n",
       "      <th>numerical_column_2</th>\n",
       "      <th>numerical_column_3</th>\n",
       "      <th>categorical_column_1_A</th>\n",
       "      <th>categorical_column_1_B</th>\n",
       "      <th>categorical_column_1_C</th>\n",
       "      <th>categorical_column_1_D</th>\n",
       "      <th>categorical_column_1_E</th>\n",
       "      <th>categorical_column_2_X</th>\n",
       "      <th>categorical_column_2_Y</th>\n",
       "      <th>categorical_column_2_Z</th>\n",
       "      <th>label_prediction</th>\n",
       "    </tr>\n",
       "  </thead>\n",
       "  <tbody>\n",
       "    <tr>\n",
       "      <th>0</th>\n",
       "      <td>1.350096</td>\n",
       "      <td>-0.473009</td>\n",
       "      <td>0.509288</td>\n",
       "      <td>1</td>\n",
       "      <td>0</td>\n",
       "      <td>0</td>\n",
       "      <td>0</td>\n",
       "      <td>0</td>\n",
       "      <td>1</td>\n",
       "      <td>0</td>\n",
       "      <td>0</td>\n",
       "      <td>0</td>\n",
       "    </tr>\n",
       "    <tr>\n",
       "      <th>1</th>\n",
       "      <td>-0.653313</td>\n",
       "      <td>1.469487</td>\n",
       "      <td>-0.098168</td>\n",
       "      <td>0</td>\n",
       "      <td>1</td>\n",
       "      <td>0</td>\n",
       "      <td>0</td>\n",
       "      <td>0</td>\n",
       "      <td>0</td>\n",
       "      <td>1</td>\n",
       "      <td>0</td>\n",
       "      <td>1</td>\n",
       "    </tr>\n",
       "    <tr>\n",
       "      <th>2</th>\n",
       "      <td>0.327763</td>\n",
       "      <td>0.412554</td>\n",
       "      <td>-0.395216</td>\n",
       "      <td>0</td>\n",
       "      <td>0</td>\n",
       "      <td>1</td>\n",
       "      <td>0</td>\n",
       "      <td>0</td>\n",
       "      <td>0</td>\n",
       "      <td>0</td>\n",
       "      <td>1</td>\n",
       "      <td>1</td>\n",
       "    </tr>\n",
       "    <tr>\n",
       "      <th>3</th>\n",
       "      <td>0.114424</td>\n",
       "      <td>0.017810</td>\n",
       "      <td>1.084722</td>\n",
       "      <td>0</td>\n",
       "      <td>0</td>\n",
       "      <td>0</td>\n",
       "      <td>1</td>\n",
       "      <td>0</td>\n",
       "      <td>1</td>\n",
       "      <td>0</td>\n",
       "      <td>0</td>\n",
       "      <td>0</td>\n",
       "    </tr>\n",
       "    <tr>\n",
       "      <th>4</th>\n",
       "      <td>0.980175</td>\n",
       "      <td>0.528060</td>\n",
       "      <td>-0.226565</td>\n",
       "      <td>0</td>\n",
       "      <td>0</td>\n",
       "      <td>0</td>\n",
       "      <td>0</td>\n",
       "      <td>1</td>\n",
       "      <td>0</td>\n",
       "      <td>1</td>\n",
       "      <td>0</td>\n",
       "      <td>0</td>\n",
       "    </tr>\n",
       "  </tbody>\n",
       "</table>\n",
       "</div>"
      ],
      "text/plain": [
       "   numerical_column_1  numerical_column_2  numerical_column_3  \\\n",
       "0            1.350096           -0.473009            0.509288   \n",
       "1           -0.653313            1.469487           -0.098168   \n",
       "2            0.327763            0.412554           -0.395216   \n",
       "3            0.114424            0.017810            1.084722   \n",
       "4            0.980175            0.528060           -0.226565   \n",
       "\n",
       "   categorical_column_1_A  categorical_column_1_B  categorical_column_1_C  \\\n",
       "0                       1                       0                       0   \n",
       "1                       0                       1                       0   \n",
       "2                       0                       0                       1   \n",
       "3                       0                       0                       0   \n",
       "4                       0                       0                       0   \n",
       "\n",
       "   categorical_column_1_D  categorical_column_1_E  categorical_column_2_X  \\\n",
       "0                       0                       0                       1   \n",
       "1                       0                       0                       0   \n",
       "2                       0                       0                       0   \n",
       "3                       1                       0                       1   \n",
       "4                       0                       1                       0   \n",
       "\n",
       "   categorical_column_2_Y  categorical_column_2_Z  label_prediction  \n",
       "0                       0                       0                 0  \n",
       "1                       1                       0                 1  \n",
       "2                       0                       1                 1  \n",
       "3                       0                       0                 0  \n",
       "4                       1                       0                 0  "
      ]
     },
     "execution_count": 16,
     "metadata": {},
     "output_type": "execute_result"
    }
   ],
   "source": [
    "# view the new dataframe with the label_prediction column\n",
    "new_df.head()"
   ]
  },
  {
   "cell_type": "code",
   "execution_count": null,
   "id": "6ee7a1a5-4633-4f13-9722-dbaf03303b6b",
   "metadata": {},
   "outputs": [],
   "source": []
  }
 ],
 "metadata": {
  "kernelspec": {
   "display_name": "Python 3 (ipykernel)",
   "language": "python",
   "name": "python3"
  },
  "language_info": {
   "codemirror_mode": {
    "name": "ipython",
    "version": 3
   },
   "file_extension": ".py",
   "mimetype": "text/x-python",
   "name": "python",
   "nbconvert_exporter": "python",
   "pygments_lexer": "ipython3",
   "version": "3.9.12"
  }
 },
 "nbformat": 4,
 "nbformat_minor": 5
}
